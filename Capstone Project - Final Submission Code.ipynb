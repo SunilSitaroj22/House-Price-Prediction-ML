{
 "cells": [
  {
   "cell_type": "markdown",
   "metadata": {},
   "source": [
    "# Importing all the primary and basic libraries"
   ]
  },
  {
   "cell_type": "code",
   "execution_count": 1,
   "metadata": {},
   "outputs": [],
   "source": [
    "import numpy as np\n",
    "import pandas as pd\n",
    "import matplotlib as matplt\n",
    "from matplotlib import pyplot as plt\n",
    "import seaborn as sns\n",
    "import json\n",
    "sns.set(color_codes=True)\n",
    "from datetime import date\n",
    "\n",
    "# Importing mode library to populate mode values of columns in dataframe\n",
    "from statistics import mode\n",
    "\n",
    "%matplotlib inline\n",
    "\n",
    "import warnings\n",
    "warnings.filterwarnings(\"ignore\")\n",
    "\n",
    "import os\n",
    "\n",
    "# pd.set_option('display.float_format', lambda x: '%.5f' % x)\n",
    "\n",
    "from sklearn.linear_model import LinearRegression, Lasso, Ridge\n",
    "from sklearn.preprocessing import MinMaxScaler,StandardScaler,PolynomialFeatures\n",
    "from sklearn.model_selection import train_test_split\n",
    "from sklearn.ensemble import RandomForestRegressor\n",
    "from sklearn.metrics import mean_squared_error, r2_score\n",
    "from math import sqrt\n",
    "from sklearn.model_selection import GridSearchCV\n",
    "from sklearn.svm import SVR\n",
    "from sklearn.model_selection import cross_val_score\n",
    "from sklearn.model_selection import KFold"
   ]
  },
  {
   "cell_type": "markdown",
   "metadata": {},
   "source": [
    "# Read data"
   ]
  },
  {
   "cell_type": "code",
   "execution_count": 2,
   "metadata": {},
   "outputs": [
    {
     "data": {
      "text/html": [
       "<div>\n",
       "<style scoped>\n",
       "    .dataframe tbody tr th:only-of-type {\n",
       "        vertical-align: middle;\n",
       "    }\n",
       "\n",
       "    .dataframe tbody tr th {\n",
       "        vertical-align: top;\n",
       "    }\n",
       "\n",
       "    .dataframe thead th {\n",
       "        text-align: right;\n",
       "    }\n",
       "</style>\n",
       "<table border=\"1\" class=\"dataframe\">\n",
       "  <thead>\n",
       "    <tr style=\"text-align: right;\">\n",
       "      <th></th>\n",
       "      <th>cid</th>\n",
       "      <th>dayhours</th>\n",
       "      <th>price</th>\n",
       "      <th>room_bed</th>\n",
       "      <th>room_bath</th>\n",
       "      <th>living_measure</th>\n",
       "      <th>lot_measure</th>\n",
       "      <th>ceil</th>\n",
       "      <th>coast</th>\n",
       "      <th>sight</th>\n",
       "      <th>...</th>\n",
       "      <th>basement</th>\n",
       "      <th>yr_built</th>\n",
       "      <th>yr_renovated</th>\n",
       "      <th>zipcode</th>\n",
       "      <th>lat</th>\n",
       "      <th>long</th>\n",
       "      <th>living_measure15</th>\n",
       "      <th>lot_measure15</th>\n",
       "      <th>furnished</th>\n",
       "      <th>total_area</th>\n",
       "    </tr>\n",
       "  </thead>\n",
       "  <tbody>\n",
       "    <tr>\n",
       "      <th>0</th>\n",
       "      <td>3034200666</td>\n",
       "      <td>20141107T000000</td>\n",
       "      <td>808100</td>\n",
       "      <td>4</td>\n",
       "      <td>3.25</td>\n",
       "      <td>3020</td>\n",
       "      <td>13457</td>\n",
       "      <td>1.0</td>\n",
       "      <td>0</td>\n",
       "      <td>0</td>\n",
       "      <td>...</td>\n",
       "      <td>0</td>\n",
       "      <td>1956</td>\n",
       "      <td>0</td>\n",
       "      <td>98133</td>\n",
       "      <td>47.7174</td>\n",
       "      <td>-122.336</td>\n",
       "      <td>2120</td>\n",
       "      <td>7553</td>\n",
       "      <td>1</td>\n",
       "      <td>16477</td>\n",
       "    </tr>\n",
       "    <tr>\n",
       "      <th>1</th>\n",
       "      <td>8731981640</td>\n",
       "      <td>20141204T000000</td>\n",
       "      <td>277500</td>\n",
       "      <td>4</td>\n",
       "      <td>2.50</td>\n",
       "      <td>2550</td>\n",
       "      <td>7500</td>\n",
       "      <td>1.0</td>\n",
       "      <td>0</td>\n",
       "      <td>0</td>\n",
       "      <td>...</td>\n",
       "      <td>800</td>\n",
       "      <td>1976</td>\n",
       "      <td>0</td>\n",
       "      <td>98023</td>\n",
       "      <td>47.3165</td>\n",
       "      <td>-122.386</td>\n",
       "      <td>2260</td>\n",
       "      <td>8800</td>\n",
       "      <td>0</td>\n",
       "      <td>10050</td>\n",
       "    </tr>\n",
       "    <tr>\n",
       "      <th>2</th>\n",
       "      <td>5104530220</td>\n",
       "      <td>20150420T000000</td>\n",
       "      <td>404000</td>\n",
       "      <td>3</td>\n",
       "      <td>2.50</td>\n",
       "      <td>2370</td>\n",
       "      <td>4324</td>\n",
       "      <td>2.0</td>\n",
       "      <td>0</td>\n",
       "      <td>0</td>\n",
       "      <td>...</td>\n",
       "      <td>0</td>\n",
       "      <td>2006</td>\n",
       "      <td>0</td>\n",
       "      <td>98038</td>\n",
       "      <td>47.3515</td>\n",
       "      <td>-121.999</td>\n",
       "      <td>2370</td>\n",
       "      <td>4348</td>\n",
       "      <td>0</td>\n",
       "      <td>6694</td>\n",
       "    </tr>\n",
       "    <tr>\n",
       "      <th>3</th>\n",
       "      <td>6145600285</td>\n",
       "      <td>20140529T000000</td>\n",
       "      <td>300000</td>\n",
       "      <td>2</td>\n",
       "      <td>1.00</td>\n",
       "      <td>820</td>\n",
       "      <td>3844</td>\n",
       "      <td>1.0</td>\n",
       "      <td>0</td>\n",
       "      <td>0</td>\n",
       "      <td>...</td>\n",
       "      <td>0</td>\n",
       "      <td>1916</td>\n",
       "      <td>0</td>\n",
       "      <td>98133</td>\n",
       "      <td>47.7049</td>\n",
       "      <td>-122.349</td>\n",
       "      <td>1520</td>\n",
       "      <td>3844</td>\n",
       "      <td>0</td>\n",
       "      <td>4664</td>\n",
       "    </tr>\n",
       "    <tr>\n",
       "      <th>4</th>\n",
       "      <td>8924100111</td>\n",
       "      <td>20150424T000000</td>\n",
       "      <td>699000</td>\n",
       "      <td>2</td>\n",
       "      <td>1.50</td>\n",
       "      <td>1400</td>\n",
       "      <td>4050</td>\n",
       "      <td>1.0</td>\n",
       "      <td>0</td>\n",
       "      <td>0</td>\n",
       "      <td>...</td>\n",
       "      <td>0</td>\n",
       "      <td>1954</td>\n",
       "      <td>0</td>\n",
       "      <td>98115</td>\n",
       "      <td>47.6768</td>\n",
       "      <td>-122.269</td>\n",
       "      <td>1900</td>\n",
       "      <td>5940</td>\n",
       "      <td>0</td>\n",
       "      <td>5450</td>\n",
       "    </tr>\n",
       "  </tbody>\n",
       "</table>\n",
       "<p>5 rows × 23 columns</p>\n",
       "</div>"
      ],
      "text/plain": [
       "          cid         dayhours   price  room_bed  room_bath  living_measure  \\\n",
       "0  3034200666  20141107T000000  808100         4       3.25            3020   \n",
       "1  8731981640  20141204T000000  277500         4       2.50            2550   \n",
       "2  5104530220  20150420T000000  404000         3       2.50            2370   \n",
       "3  6145600285  20140529T000000  300000         2       1.00             820   \n",
       "4  8924100111  20150424T000000  699000         2       1.50            1400   \n",
       "\n",
       "   lot_measure  ceil  coast  sight  ...  basement  yr_built  yr_renovated  \\\n",
       "0        13457   1.0      0      0  ...         0      1956             0   \n",
       "1         7500   1.0      0      0  ...       800      1976             0   \n",
       "2         4324   2.0      0      0  ...         0      2006             0   \n",
       "3         3844   1.0      0      0  ...         0      1916             0   \n",
       "4         4050   1.0      0      0  ...         0      1954             0   \n",
       "\n",
       "   zipcode      lat     long  living_measure15  lot_measure15  furnished  \\\n",
       "0    98133  47.7174 -122.336              2120           7553          1   \n",
       "1    98023  47.3165 -122.386              2260           8800          0   \n",
       "2    98038  47.3515 -121.999              2370           4348          0   \n",
       "3    98133  47.7049 -122.349              1520           3844          0   \n",
       "4    98115  47.6768 -122.269              1900           5940          0   \n",
       "\n",
       "   total_area  \n",
       "0       16477  \n",
       "1       10050  \n",
       "2        6694  \n",
       "3        4664  \n",
       "4        5450  \n",
       "\n",
       "[5 rows x 23 columns]"
      ]
     },
     "execution_count": 2,
     "metadata": {},
     "output_type": "execute_result"
    }
   ],
   "source": [
    "housing_data=pd.read_csv('C:\\\\Users\\\\ankur\\\\OneDrive\\\\Ridhima\\\\AIML Course\\\\8. Capstone Project\\\\innercity.csv')\n",
    "housing_data.head(5)"
   ]
  },
  {
   "cell_type": "code",
   "execution_count": 3,
   "metadata": {},
   "outputs": [
    {
     "name": "stdout",
     "output_type": "stream",
     "text": [
      "<class 'pandas.core.frame.DataFrame'>\n",
      "RangeIndex: 21613 entries, 0 to 21612\n",
      "Data columns (total 23 columns):\n",
      " #   Column            Non-Null Count  Dtype  \n",
      "---  ------            --------------  -----  \n",
      " 0   cid               21613 non-null  int64  \n",
      " 1   dayhours          21613 non-null  object \n",
      " 2   price             21613 non-null  int64  \n",
      " 3   room_bed          21613 non-null  int64  \n",
      " 4   room_bath         21613 non-null  float64\n",
      " 5   living_measure    21613 non-null  int64  \n",
      " 6   lot_measure       21613 non-null  int64  \n",
      " 7   ceil              21613 non-null  float64\n",
      " 8   coast             21613 non-null  int64  \n",
      " 9   sight             21613 non-null  int64  \n",
      " 10  condition         21613 non-null  int64  \n",
      " 11  quality           21613 non-null  int64  \n",
      " 12  ceil_measure      21613 non-null  int64  \n",
      " 13  basement          21613 non-null  int64  \n",
      " 14  yr_built          21613 non-null  int64  \n",
      " 15  yr_renovated      21613 non-null  int64  \n",
      " 16  zipcode           21613 non-null  int64  \n",
      " 17  lat               21613 non-null  float64\n",
      " 18  long              21613 non-null  float64\n",
      " 19  living_measure15  21613 non-null  int64  \n",
      " 20  lot_measure15     21613 non-null  int64  \n",
      " 21  furnished         21613 non-null  int64  \n",
      " 22  total_area        21613 non-null  int64  \n",
      "dtypes: float64(4), int64(18), object(1)\n",
      "memory usage: 3.8+ MB\n"
     ]
    }
   ],
   "source": [
    "housing_data.info()"
   ]
  },
  {
   "cell_type": "markdown",
   "metadata": {},
   "source": [
    "# Create additional variables"
   ]
  },
  {
   "cell_type": "code",
   "execution_count": 4,
   "metadata": {},
   "outputs": [
    {
     "data": {
      "text/html": [
       "<div>\n",
       "<style scoped>\n",
       "    .dataframe tbody tr th:only-of-type {\n",
       "        vertical-align: middle;\n",
       "    }\n",
       "\n",
       "    .dataframe tbody tr th {\n",
       "        vertical-align: top;\n",
       "    }\n",
       "\n",
       "    .dataframe thead th {\n",
       "        text-align: right;\n",
       "    }\n",
       "</style>\n",
       "<table border=\"1\" class=\"dataframe\">\n",
       "  <thead>\n",
       "    <tr style=\"text-align: right;\">\n",
       "      <th></th>\n",
       "      <th>year_sold</th>\n",
       "      <th>dayhours</th>\n",
       "      <th>year_sold_2014_flag</th>\n",
       "      <th>renovated_flag</th>\n",
       "      <th>yr_renovated</th>\n",
       "      <th>yr_built</th>\n",
       "      <th>House_age_at_sales</th>\n",
       "      <th>num_years_post_renovation</th>\n",
       "    </tr>\n",
       "  </thead>\n",
       "  <tbody>\n",
       "    <tr>\n",
       "      <th>0</th>\n",
       "      <td>2014</td>\n",
       "      <td>20141107T000000</td>\n",
       "      <td>1</td>\n",
       "      <td>0</td>\n",
       "      <td>0</td>\n",
       "      <td>1956</td>\n",
       "      <td>58</td>\n",
       "      <td>99</td>\n",
       "    </tr>\n",
       "    <tr>\n",
       "      <th>1</th>\n",
       "      <td>2014</td>\n",
       "      <td>20141204T000000</td>\n",
       "      <td>1</td>\n",
       "      <td>0</td>\n",
       "      <td>0</td>\n",
       "      <td>1976</td>\n",
       "      <td>38</td>\n",
       "      <td>99</td>\n",
       "    </tr>\n",
       "    <tr>\n",
       "      <th>2</th>\n",
       "      <td>2015</td>\n",
       "      <td>20150420T000000</td>\n",
       "      <td>0</td>\n",
       "      <td>0</td>\n",
       "      <td>0</td>\n",
       "      <td>2006</td>\n",
       "      <td>9</td>\n",
       "      <td>99</td>\n",
       "    </tr>\n",
       "    <tr>\n",
       "      <th>3</th>\n",
       "      <td>2014</td>\n",
       "      <td>20140529T000000</td>\n",
       "      <td>1</td>\n",
       "      <td>0</td>\n",
       "      <td>0</td>\n",
       "      <td>1916</td>\n",
       "      <td>98</td>\n",
       "      <td>99</td>\n",
       "    </tr>\n",
       "    <tr>\n",
       "      <th>4</th>\n",
       "      <td>2015</td>\n",
       "      <td>20150424T000000</td>\n",
       "      <td>0</td>\n",
       "      <td>0</td>\n",
       "      <td>0</td>\n",
       "      <td>1954</td>\n",
       "      <td>61</td>\n",
       "      <td>99</td>\n",
       "    </tr>\n",
       "  </tbody>\n",
       "</table>\n",
       "</div>"
      ],
      "text/plain": [
       "   year_sold         dayhours  year_sold_2014_flag  renovated_flag  \\\n",
       "0       2014  20141107T000000                    1               0   \n",
       "1       2014  20141204T000000                    1               0   \n",
       "2       2015  20150420T000000                    0               0   \n",
       "3       2014  20140529T000000                    1               0   \n",
       "4       2015  20150424T000000                    0               0   \n",
       "\n",
       "   yr_renovated  yr_built  House_age_at_sales  num_years_post_renovation  \n",
       "0             0      1956                  58                         99  \n",
       "1             0      1976                  38                         99  \n",
       "2             0      2006                   9                         99  \n",
       "3             0      1916                  98                         99  \n",
       "4             0      1954                  61                         99  "
      ]
     },
     "execution_count": 4,
     "metadata": {},
     "output_type": "execute_result"
    }
   ],
   "source": [
    "\n",
    "def renovated_flag(x):\n",
    "    if x>0:\n",
    "        renovated=1\n",
    "    else:\n",
    "        renovated=0\n",
    "    return renovated\n",
    "\n",
    "def year_sold_2014_flag(x):\n",
    "    if x == 2014:\n",
    "        year_sold_2014=1\n",
    "    else:\n",
    "        year_sold_2014=0\n",
    "    return year_sold_2014\n",
    "\n",
    "def years_post_renovation(x,y):\n",
    "    if x>0:\n",
    "        num_years_post_renovation=y-x\n",
    "    else:\n",
    "        num_years_post_renovation=99\n",
    "    return num_years_post_renovation\n",
    "\n",
    "def neighbourhoods(x):\n",
    "    neigh1=[98039,98004,98040,98112]\n",
    "    neigh2=[98102,98109,98105,98006,98119,98005,98033,98199,98075]\n",
    "    neigh3=[98074,98077,98053,98177,98008,98052,98122,98115,98116,98007,98027,98029]\n",
    "    neigh4=[98144,98103,98024,98107,98117,98072,98136,98065,98034]\n",
    "    neigh5=[98059,98011,98070,98125,98166,98028,98014,98045,98019,98126,98155,98010,98056,98118]\n",
    "    neigh6=[98133,98038,98146,98108,98058,98092,98106,98022,98042,98178,98055,98198]\n",
    "    neigh7=[98031,98030,98003,98188,98023,98148,98001,98032,98168,98002]\n",
    "    if x in neigh1:\n",
    "        neighbourhood_indicator=1\n",
    "    elif x in neigh2:\n",
    "        neighbourhood_indicator=2\n",
    "    elif x in neigh3:\n",
    "        neighbourhood_indicator=3\n",
    "    elif x in neigh4:\n",
    "        neighbourhood_indicator=4\n",
    "    elif x in neigh5:\n",
    "        neighbourhood_indicator=5\n",
    "    elif x in neigh6:\n",
    "        neighbourhood_indicator=6\n",
    "    elif x in neigh7:\n",
    "        neighbourhood_indicator=7\n",
    "    else:\n",
    "        neighbourhood_indicator=8\n",
    "    return neighbourhood_indicator\n",
    "\n",
    "housing_data['year_sold']=housing_data['dayhours'].astype(str).str[:4].astype(int)\n",
    "housing_data['year_sold_2014_flag']=housing_data['year_sold'].apply(year_sold_2014_flag)\n",
    "housing_data['renovated_flag']=housing_data['yr_renovated'].apply(renovated_flag)\n",
    "housing_data['House_age_at_sales']=housing_data['year_sold']-housing_data['yr_built']\n",
    "housing_data['num_years_post_renovation']=housing_data.apply(lambda x:years_post_renovation(x['yr_renovated'],x['year_sold']),axis=1)\n",
    "housing_data['neighbourhood_indicator']=housing_data['zipcode'].apply(neighbourhoods)\n",
    "\n",
    "# Rounding off ceil\n",
    "housing_data['ceil']=housing_data['ceil'].round(0)\n",
    "\n",
    "housing_data[['year_sold','dayhours','year_sold_2014_flag','renovated_flag','yr_renovated','yr_built','House_age_at_sales','num_years_post_renovation']].head()"
   ]
  },
  {
   "cell_type": "markdown",
   "metadata": {},
   "source": [
    "# Remove the unnecessary variables & split into Train & test before outlier treatment, multicollinearity checks etc."
   ]
  },
  {
   "cell_type": "code",
   "execution_count": 5,
   "metadata": {},
   "outputs": [
    {
     "name": "stdout",
     "output_type": "stream",
     "text": [
      "537119.7352766211\n",
      "547327.6562307217\n"
     ]
    }
   ],
   "source": [
    "housing_data=housing_data.drop(['dayhours','yr_renovated','cid','year_sold','yr_built','zipcode','lat','long'], axis=1)\n",
    "train,test = train_test_split(housing_data, test_size = 0.30,random_state =2)\n",
    "print(train['price'].mean())\n",
    "print(test['price'].mean())"
   ]
  },
  {
   "cell_type": "markdown",
   "metadata": {},
   "source": [
    "# Bedroom Treatment for Bedrooms=0"
   ]
  },
  {
   "cell_type": "code",
   "execution_count": 6,
   "metadata": {},
   "outputs": [
    {
     "data": {
      "text/html": [
       "<div>\n",
       "<style scoped>\n",
       "    .dataframe tbody tr th:only-of-type {\n",
       "        vertical-align: middle;\n",
       "    }\n",
       "\n",
       "    .dataframe tbody tr th {\n",
       "        vertical-align: top;\n",
       "    }\n",
       "\n",
       "    .dataframe thead th {\n",
       "        text-align: right;\n",
       "    }\n",
       "</style>\n",
       "<table border=\"1\" class=\"dataframe\">\n",
       "  <thead>\n",
       "    <tr style=\"text-align: right;\">\n",
       "      <th></th>\n",
       "      <th>room_bed</th>\n",
       "    </tr>\n",
       "  </thead>\n",
       "  <tbody>\n",
       "    <tr>\n",
       "      <th>room_bed</th>\n",
       "      <td>1.000000</td>\n",
       "    </tr>\n",
       "    <tr>\n",
       "      <th>living_measure</th>\n",
       "      <td>0.576242</td>\n",
       "    </tr>\n",
       "    <tr>\n",
       "      <th>room_bath</th>\n",
       "      <td>0.513459</td>\n",
       "    </tr>\n",
       "    <tr>\n",
       "      <th>ceil_measure</th>\n",
       "      <td>0.476171</td>\n",
       "    </tr>\n",
       "    <tr>\n",
       "      <th>living_measure15</th>\n",
       "      <td>0.390375</td>\n",
       "    </tr>\n",
       "    <tr>\n",
       "      <th>quality</th>\n",
       "      <td>0.354359</td>\n",
       "    </tr>\n",
       "    <tr>\n",
       "      <th>price</th>\n",
       "      <td>0.308247</td>\n",
       "    </tr>\n",
       "    <tr>\n",
       "      <th>basement</th>\n",
       "      <td>0.306734</td>\n",
       "    </tr>\n",
       "    <tr>\n",
       "      <th>furnished</th>\n",
       "      <td>0.260529</td>\n",
       "    </tr>\n",
       "    <tr>\n",
       "      <th>ceil</th>\n",
       "      <td>0.171982</td>\n",
       "    </tr>\n",
       "    <tr>\n",
       "      <th>sight</th>\n",
       "      <td>0.085295</td>\n",
       "    </tr>\n",
       "    <tr>\n",
       "      <th>total_area</th>\n",
       "      <td>0.038094</td>\n",
       "    </tr>\n",
       "    <tr>\n",
       "      <th>condition</th>\n",
       "      <td>0.035744</td>\n",
       "    </tr>\n",
       "    <tr>\n",
       "      <th>lot_measure15</th>\n",
       "      <td>0.027127</td>\n",
       "    </tr>\n",
       "    <tr>\n",
       "      <th>lot_measure</th>\n",
       "      <td>0.025995</td>\n",
       "    </tr>\n",
       "    <tr>\n",
       "      <th>renovated_flag</th>\n",
       "      <td>0.012487</td>\n",
       "    </tr>\n",
       "    <tr>\n",
       "      <th>year_sold_2014_flag</th>\n",
       "      <td>0.008044</td>\n",
       "    </tr>\n",
       "    <tr>\n",
       "      <th>coast</th>\n",
       "      <td>-0.010961</td>\n",
       "    </tr>\n",
       "    <tr>\n",
       "      <th>num_years_post_renovation</th>\n",
       "      <td>-0.019790</td>\n",
       "    </tr>\n",
       "    <tr>\n",
       "      <th>neighbourhood_indicator</th>\n",
       "      <td>-0.096462</td>\n",
       "    </tr>\n",
       "    <tr>\n",
       "      <th>House_age_at_sales</th>\n",
       "      <td>-0.154120</td>\n",
       "    </tr>\n",
       "  </tbody>\n",
       "</table>\n",
       "</div>"
      ],
      "text/plain": [
       "                           room_bed\n",
       "room_bed                   1.000000\n",
       "living_measure             0.576242\n",
       "room_bath                  0.513459\n",
       "ceil_measure               0.476171\n",
       "living_measure15           0.390375\n",
       "quality                    0.354359\n",
       "price                      0.308247\n",
       "basement                   0.306734\n",
       "furnished                  0.260529\n",
       "ceil                       0.171982\n",
       "sight                      0.085295\n",
       "total_area                 0.038094\n",
       "condition                  0.035744\n",
       "lot_measure15              0.027127\n",
       "lot_measure                0.025995\n",
       "renovated_flag             0.012487\n",
       "year_sold_2014_flag        0.008044\n",
       "coast                     -0.010961\n",
       "num_years_post_renovation -0.019790\n",
       "neighbourhood_indicator   -0.096462\n",
       "House_age_at_sales        -0.154120"
      ]
     },
     "execution_count": 6,
     "metadata": {},
     "output_type": "execute_result"
    }
   ],
   "source": [
    "# There are 13 rows with 0 bedrooms. Assuming that these are data issues as few of the houses have bigger sizes.\n",
    "# Bedrooms are highly correlated to living measure i.e. size of living area & hence, we will do missing \n",
    "# value treatment basis size of house\n",
    "pd.DataFrame(train.corr())[['room_bed']].sort_values('room_bed',ascending=False)"
   ]
  },
  {
   "cell_type": "code",
   "execution_count": 7,
   "metadata": {},
   "outputs": [
    {
     "name": "stdout",
     "output_type": "stream",
     "text": [
      "Mean bedrooms for 0-500 sq ft:      1.25\n",
      "Mean bedrooms for 500-1000 sq ft:   2.1795878312070656\n",
      "Mean bedrooms for 1000-2000 sq ft:  3.0571825121443443\n",
      "Mean bedrooms for 2000-3000 sq ft:  3.75089042530903\n",
      "Mean bedrooms for 3000-4000 sq ft:  4.103295310519645\n",
      "Mean bedrooms for 4000-5000 sq ft:  4.3984375\n",
      "Mean bedrooms for 5000-10000 sq ft: 4.673469387755102\n",
      "Mean bedrooms for 10000+ sq ft:     7.0\n"
     ]
    }
   ],
   "source": [
    "# Find the average # of bedrooms by different living measure size\n",
    "print('Mean bedrooms for 0-500 sq ft:     ',train[(train['living_measure']>0) & (train['living_measure']<=500) & (train['room_bed']!=0)]['room_bed'].mean())\n",
    "print('Mean bedrooms for 500-1000 sq ft:  ',train[(train['living_measure']>500) & (train['living_measure']<=1000) & (train['room_bed']!=0)]['room_bed'].mean())\n",
    "print('Mean bedrooms for 1000-2000 sq ft: ',train[(train['living_measure']>1000) & (train['living_measure']<=2000) & (train['room_bed']!=0)]['room_bed'].mean())\n",
    "print('Mean bedrooms for 2000-3000 sq ft: ',train[(train['living_measure']>2000) & (train['living_measure']<=3000) & (train['room_bed']!=0)]['room_bed'].mean())\n",
    "print('Mean bedrooms for 3000-4000 sq ft: ',train[(train['living_measure']>3000) & (train['living_measure']<=4000) & (train['room_bed']!=0)]['room_bed'].mean())\n",
    "print('Mean bedrooms for 4000-5000 sq ft: ',train[(train['living_measure']>4000) & (train['living_measure']<=5000) & (train['room_bed']!=0)]['room_bed'].mean())\n",
    "print('Mean bedrooms for 5000-10000 sq ft:',train[(train['living_measure']>5000) & (train['living_measure']<=10000) & (train['room_bed']!=0)]['room_bed'].mean())\n",
    "print('Mean bedrooms for 10000+ sq ft:    ',train[(train['living_measure']>10000) & (train['room_bed']!=0)]['room_bed'].mean())\n",
    "\n",
    "\n"
   ]
  },
  {
   "cell_type": "code",
   "execution_count": 8,
   "metadata": {},
   "outputs": [
    {
     "data": {
      "text/html": [
       "<div>\n",
       "<style scoped>\n",
       "    .dataframe tbody tr th:only-of-type {\n",
       "        vertical-align: middle;\n",
       "    }\n",
       "\n",
       "    .dataframe tbody tr th {\n",
       "        vertical-align: top;\n",
       "    }\n",
       "\n",
       "    .dataframe thead th {\n",
       "        text-align: right;\n",
       "    }\n",
       "</style>\n",
       "<table border=\"1\" class=\"dataframe\">\n",
       "  <thead>\n",
       "    <tr style=\"text-align: right;\">\n",
       "      <th></th>\n",
       "      <th>num_bedrooms_treated</th>\n",
       "      <th>room_bed</th>\n",
       "      <th>living_measure</th>\n",
       "    </tr>\n",
       "  </thead>\n",
       "  <tbody>\n",
       "    <tr>\n",
       "      <th>21113</th>\n",
       "      <td>3.0</td>\n",
       "      <td>0</td>\n",
       "      <td>1490</td>\n",
       "    </tr>\n",
       "    <tr>\n",
       "      <th>15806</th>\n",
       "      <td>1.0</td>\n",
       "      <td>0</td>\n",
       "      <td>384</td>\n",
       "    </tr>\n",
       "    <tr>\n",
       "      <th>7317</th>\n",
       "      <td>3.0</td>\n",
       "      <td>0</td>\n",
       "      <td>1470</td>\n",
       "    </tr>\n",
       "    <tr>\n",
       "      <th>19216</th>\n",
       "      <td>4.0</td>\n",
       "      <td>0</td>\n",
       "      <td>3064</td>\n",
       "    </tr>\n",
       "    <tr>\n",
       "      <th>13422</th>\n",
       "      <td>3.0</td>\n",
       "      <td>0</td>\n",
       "      <td>1810</td>\n",
       "    </tr>\n",
       "    <tr>\n",
       "      <th>15960</th>\n",
       "      <td>3.0</td>\n",
       "      <td>0</td>\n",
       "      <td>1470</td>\n",
       "    </tr>\n",
       "    <tr>\n",
       "      <th>15102</th>\n",
       "      <td>1.0</td>\n",
       "      <td>0</td>\n",
       "      <td>390</td>\n",
       "    </tr>\n",
       "    <tr>\n",
       "      <th>1640</th>\n",
       "      <td>4.0</td>\n",
       "      <td>0</td>\n",
       "      <td>2290</td>\n",
       "    </tr>\n",
       "    <tr>\n",
       "      <th>11500</th>\n",
       "      <td>3.0</td>\n",
       "      <td>0</td>\n",
       "      <td>1430</td>\n",
       "    </tr>\n",
       "    <tr>\n",
       "      <th>8092</th>\n",
       "      <td>1.0</td>\n",
       "      <td>0</td>\n",
       "      <td>290</td>\n",
       "    </tr>\n",
       "  </tbody>\n",
       "</table>\n",
       "</div>"
      ],
      "text/plain": [
       "       num_bedrooms_treated  room_bed  living_measure\n",
       "21113                   3.0         0            1490\n",
       "15806                   1.0         0             384\n",
       "7317                    3.0         0            1470\n",
       "19216                   4.0         0            3064\n",
       "13422                   3.0         0            1810\n",
       "15960                   3.0         0            1470\n",
       "15102                   1.0         0             390\n",
       "1640                    4.0         0            2290\n",
       "11500                   3.0         0            1430\n",
       "8092                    1.0         0             290"
      ]
     },
     "execution_count": 8,
     "metadata": {},
     "output_type": "execute_result"
    }
   ],
   "source": [
    "# Treat the rows with 0 bedrooms & create a new variable\n",
    "def bedroom_treatment(x,y):\n",
    "    if x>0:\n",
    "        new_bedroom=x\n",
    "    elif x == 0 and y<=500:\n",
    "        new_bedroom=1\n",
    "    elif x == 0 and y>500 and y<=1000:\n",
    "        new_bedroom=2\n",
    "    elif x == 0 and y>500 and y<=1000:\n",
    "        new_bedroom=1\n",
    "    elif x == 0 and y>1000 and y<=2000:\n",
    "        new_bedroom=3\n",
    "    elif x == 0 and y>2000 and y<=5000:\n",
    "        new_bedroom=4\n",
    "    elif x == 0 and y>5000 and y<=10000:\n",
    "        new_bedroom=5\n",
    "    elif x == 0 and y>10000:\n",
    "        new_bedroom=7\n",
    "    return new_bedroom\n",
    "\n",
    "bedroom_treatment(0,6500)\n",
    "\n",
    "train['num_bedrooms_treated']=train.apply(lambda x:bedroom_treatment(x['room_bed'],x['living_measure']),axis=1)\n",
    "test['num_bedrooms_treated']=test.apply(lambda x:bedroom_treatment(x['room_bed'],x['living_measure']),axis=1)\n",
    "train[train['room_bed']==0][['num_bedrooms_treated','room_bed','living_measure']]"
   ]
  },
  {
   "cell_type": "code",
   "execution_count": 9,
   "metadata": {},
   "outputs": [
    {
     "name": "stdout",
     "output_type": "stream",
     "text": [
      "              price      room_bed     room_bath  living_measure   lot_measure  \\\n",
      "count  1.512900e+04  15129.000000  15129.000000     15129.00000  1.512900e+04   \n",
      "mean   5.371197e+05      3.372596      2.108170      2074.09842  1.507751e+04   \n",
      "std    3.593734e+05      0.939774      0.768823       913.74113  4.301053e+04   \n",
      "min    7.800000e+04      0.000000      0.000000       290.00000  5.200000e+02   \n",
      "25%    3.200000e+05      3.000000      1.500000      1420.00000  5.050000e+03   \n",
      "50%    4.500000e+05      3.000000      2.250000      1910.00000  7.620000e+03   \n",
      "75%    6.400000e+05      4.000000      2.500000      2550.00000  1.058800e+04   \n",
      "max    6.890000e+06     33.000000      8.000000     13540.00000  1.651359e+06   \n",
      "\n",
      "               ceil         coast         sight     condition       quality  \\\n",
      "count  15129.000000  15129.000000  15129.000000  15129.000000  15129.000000   \n",
      "mean       1.529843      0.007535      0.234979      3.410206      7.644524   \n",
      "std        0.554701      0.086481      0.769753      0.652673      1.170495   \n",
      "min        1.000000      0.000000      0.000000      1.000000      1.000000   \n",
      "25%        1.000000      0.000000      0.000000      3.000000      7.000000   \n",
      "50%        2.000000      0.000000      0.000000      3.000000      7.000000   \n",
      "75%        2.000000      0.000000      0.000000      4.000000      8.000000   \n",
      "max        4.000000      1.000000      4.000000      5.000000     13.000000   \n",
      "\n",
      "       ...  living_measure15  lot_measure15     furnished    total_area  \\\n",
      "count  ...      15129.000000   15129.000000  15129.000000  1.512900e+04   \n",
      "mean   ...       1979.414370   12692.128561      0.193734  1.715161e+04   \n",
      "std    ...        680.658038   27472.724297      0.395236  4.317272e+04   \n",
      "min    ...        399.000000     659.000000      0.000000  1.423000e+03   \n",
      "25%    ...       1480.000000    5100.000000      0.000000  7.060000e+03   \n",
      "50%    ...       1830.000000    7620.000000      0.000000  9.580000e+03   \n",
      "75%    ...       2350.000000   10050.000000      0.000000  1.288100e+04   \n",
      "max    ...       6210.000000  871200.000000      1.000000  1.652659e+06   \n",
      "\n",
      "       year_sold_2014_flag  renovated_flag  House_age_at_sales  \\\n",
      "count         15129.000000    15129.000000        15129.000000   \n",
      "mean              0.678300        0.041774           43.595082   \n",
      "std               0.467144        0.200079           29.367064   \n",
      "min               0.000000        0.000000           -1.000000   \n",
      "25%               0.000000        0.000000           18.000000   \n",
      "50%               1.000000        0.000000           40.000000   \n",
      "75%               1.000000        0.000000           63.000000   \n",
      "max               1.000000        1.000000          115.000000   \n",
      "\n",
      "       num_years_post_renovation  neighbourhood_indicator  \\\n",
      "count               15129.000000             15129.000000   \n",
      "mean                   95.628264                 4.392557   \n",
      "std                    16.454738                 1.698165   \n",
      "min                    -1.000000                 1.000000   \n",
      "25%                    99.000000                 3.000000   \n",
      "50%                    99.000000                 5.000000   \n",
      "75%                    99.000000                 6.000000   \n",
      "max                    99.000000                 7.000000   \n",
      "\n",
      "       num_bedrooms_treated  \n",
      "count          15129.000000  \n",
      "mean               3.374314  \n",
      "std                0.936412  \n",
      "min                1.000000  \n",
      "25%                3.000000  \n",
      "50%                3.000000  \n",
      "75%                4.000000  \n",
      "max               33.000000  \n",
      "\n",
      "[8 rows x 22 columns]\n"
     ]
    }
   ],
   "source": [
    "print(train.describe())"
   ]
  },
  {
   "cell_type": "markdown",
   "metadata": {},
   "source": [
    "# Remove outliers from train data\n",
    "# Do the same treatment on test dataset too"
   ]
  },
  {
   "cell_type": "code",
   "execution_count": 10,
   "metadata": {},
   "outputs": [
    {
     "name": "stdout",
     "output_type": "stream",
     "text": [
      "212137.0\n",
      "14955\n",
      "6412\n"
     ]
    }
   ],
   "source": [
    "\n",
    "train_new=train.drop('room_bed',axis=1)\n",
    "test_new=test.drop('room_bed',axis=1)\n",
    "final_subset1=train_new[(train_new['num_bedrooms_treated']<=8) & (train_new['num_bedrooms_treated']>0)]\n",
    "final_subset2=final_subset1[final_subset1['room_bath']<=6]\n",
    "final_subset3=final_subset2[final_subset2['ceil']<=3]\n",
    "train_fin=final_subset3[final_subset3['lot_measure']<=final_subset3.lot_measure.quantile(0.99)]\n",
    "print(final_subset3.lot_measure.quantile(0.99))\n",
    "print(train_fin.price.count())\n",
    "\n",
    "\n",
    "final_subset1_t=test_new[(test_new['num_bedrooms_treated']<=8) & (test_new['num_bedrooms_treated']>0)]\n",
    "final_subset2_t=final_subset1_t[final_subset1_t['room_bath']<=6]\n",
    "final_subset3_t=final_subset2_t[final_subset2_t['ceil']<=3]\n",
    "test_fin=final_subset3_t[final_subset3_t['lot_measure']<=212137]\n",
    "print(test_fin.price.count())"
   ]
  },
  {
   "cell_type": "markdown",
   "metadata": {},
   "source": [
    "# Find variables with high multicollinearity"
   ]
  },
  {
   "cell_type": "code",
   "execution_count": 11,
   "metadata": {},
   "outputs": [
    {
     "name": "stdout",
     "output_type": "stream",
     "text": [
      "For 22 columns, correlation will be derived\n"
     ]
    },
    {
     "data": {
      "text/html": [
       "<div>\n",
       "<style scoped>\n",
       "    .dataframe tbody tr th:only-of-type {\n",
       "        vertical-align: middle;\n",
       "    }\n",
       "\n",
       "    .dataframe tbody tr th {\n",
       "        vertical-align: top;\n",
       "    }\n",
       "\n",
       "    .dataframe thead th {\n",
       "        text-align: right;\n",
       "    }\n",
       "</style>\n",
       "<table border=\"1\" class=\"dataframe\">\n",
       "  <thead>\n",
       "    <tr style=\"text-align: right;\">\n",
       "      <th></th>\n",
       "      <th>1st Col</th>\n",
       "      <th>2nd Col</th>\n",
       "      <th>Corr</th>\n",
       "    </tr>\n",
       "  </thead>\n",
       "  <tbody>\n",
       "    <tr>\n",
       "      <th>14</th>\n",
       "      <td>lot_measure</td>\n",
       "      <td>total_area</td>\n",
       "      <td>0.998976</td>\n",
       "    </tr>\n",
       "    <tr>\n",
       "      <th>9</th>\n",
       "      <td>living_measure</td>\n",
       "      <td>ceil_measure</td>\n",
       "      <td>0.871200</td>\n",
       "    </tr>\n",
       "    <tr>\n",
       "      <th>13</th>\n",
       "      <td>quality</td>\n",
       "      <td>furnished</td>\n",
       "      <td>0.785505</td>\n",
       "    </tr>\n",
       "    <tr>\n",
       "      <th>11</th>\n",
       "      <td>living_measure</td>\n",
       "      <td>living_measure15</td>\n",
       "      <td>0.762202</td>\n",
       "    </tr>\n",
       "    <tr>\n",
       "      <th>8</th>\n",
       "      <td>living_measure</td>\n",
       "      <td>quality</td>\n",
       "      <td>0.760711</td>\n",
       "    </tr>\n",
       "    <tr>\n",
       "      <th>12</th>\n",
       "      <td>lot_measure</td>\n",
       "      <td>lot_measure15</td>\n",
       "      <td>0.756589</td>\n",
       "    </tr>\n",
       "    <tr>\n",
       "      <th>14</th>\n",
       "      <td>lot_measure15</td>\n",
       "      <td>total_area</td>\n",
       "      <td>0.756420</td>\n",
       "    </tr>\n",
       "    <tr>\n",
       "      <th>9</th>\n",
       "      <td>quality</td>\n",
       "      <td>ceil_measure</td>\n",
       "      <td>0.755491</td>\n",
       "    </tr>\n",
       "    <tr>\n",
       "      <th>2</th>\n",
       "      <td>room_bath</td>\n",
       "      <td>living_measure</td>\n",
       "      <td>0.750424</td>\n",
       "    </tr>\n",
       "    <tr>\n",
       "      <th>11</th>\n",
       "      <td>ceil_measure</td>\n",
       "      <td>living_measure15</td>\n",
       "      <td>0.736485</td>\n",
       "    </tr>\n",
       "    <tr>\n",
       "      <th>11</th>\n",
       "      <td>quality</td>\n",
       "      <td>living_measure15</td>\n",
       "      <td>0.713440</td>\n",
       "    </tr>\n",
       "    <tr>\n",
       "      <th>2</th>\n",
       "      <td>price</td>\n",
       "      <td>living_measure</td>\n",
       "      <td>0.694686</td>\n",
       "    </tr>\n",
       "    <tr>\n",
       "      <th>9</th>\n",
       "      <td>room_bath</td>\n",
       "      <td>ceil_measure</td>\n",
       "      <td>0.678093</td>\n",
       "    </tr>\n",
       "    <tr>\n",
       "      <th>8</th>\n",
       "      <td>price</td>\n",
       "      <td>quality</td>\n",
       "      <td>0.673795</td>\n",
       "    </tr>\n",
       "    <tr>\n",
       "      <th>8</th>\n",
       "      <td>room_bath</td>\n",
       "      <td>quality</td>\n",
       "      <td>0.658821</td>\n",
       "    </tr>\n",
       "    <tr>\n",
       "      <th>13</th>\n",
       "      <td>ceil_measure</td>\n",
       "      <td>furnished</td>\n",
       "      <td>0.658453</td>\n",
       "    </tr>\n",
       "    <tr>\n",
       "      <th>13</th>\n",
       "      <td>living_measure</td>\n",
       "      <td>furnished</td>\n",
       "      <td>0.638551</td>\n",
       "    </tr>\n",
       "    <tr>\n",
       "      <th>13</th>\n",
       "      <td>living_measure15</td>\n",
       "      <td>furnished</td>\n",
       "      <td>0.622998</td>\n",
       "    </tr>\n",
       "    <tr>\n",
       "      <th>20</th>\n",
       "      <td>living_measure</td>\n",
       "      <td>num_bedrooms_treated</td>\n",
       "      <td>0.602733</td>\n",
       "    </tr>\n",
       "    <tr>\n",
       "      <th>9</th>\n",
       "      <td>price</td>\n",
       "      <td>ceil_measure</td>\n",
       "      <td>0.599564</td>\n",
       "    </tr>\n",
       "  </tbody>\n",
       "</table>\n",
       "</div>"
      ],
      "text/plain": [
       "             1st Col               2nd Col      Corr\n",
       "14       lot_measure            total_area  0.998976\n",
       "9     living_measure          ceil_measure  0.871200\n",
       "13           quality             furnished  0.785505\n",
       "11    living_measure      living_measure15  0.762202\n",
       "8     living_measure               quality  0.760711\n",
       "12       lot_measure         lot_measure15  0.756589\n",
       "14     lot_measure15            total_area  0.756420\n",
       "9            quality          ceil_measure  0.755491\n",
       "2          room_bath        living_measure  0.750424\n",
       "11      ceil_measure      living_measure15  0.736485\n",
       "11           quality      living_measure15  0.713440\n",
       "2              price        living_measure  0.694686\n",
       "9          room_bath          ceil_measure  0.678093\n",
       "8              price               quality  0.673795\n",
       "8          room_bath               quality  0.658821\n",
       "13      ceil_measure             furnished  0.658453\n",
       "13    living_measure             furnished  0.638551\n",
       "13  living_measure15             furnished  0.622998\n",
       "20    living_measure  num_bedrooms_treated  0.602733\n",
       "9              price          ceil_measure  0.599564"
      ]
     },
     "execution_count": 11,
     "metadata": {},
     "output_type": "execute_result"
    }
   ],
   "source": [
    "\n",
    "df_col_corr=train_fin.corr()\n",
    "df_col_corr[\"2nd Col\"]=df_col_corr.index\n",
    "df_col_corr.reset_index(inplace = True)\n",
    "df_col_corr.drop('index', axis=1, inplace = True)\n",
    "df_relevant_corr=pd.DataFrame(columns = [\"1st Col\", \"2nd Col\"])\n",
    "df_relevant_corr=df_relevant_corr[0:0]\n",
    "col_num=len(df_col_corr.columns)\n",
    "print(\"For {} columns, correlation will be derived\".format(col_num))\n",
    "#Counter will help us to analysis only the value below the diagonal to avoid duplicate co-relations\n",
    "counter = 0\n",
    "for col in df_col_corr.columns:\n",
    "    if col !=\"2nd Col\":\n",
    "        \n",
    "        # Only those pairs are captured which have correlation between 0.4 to 1 and -1 and -0.4\n",
    "        \n",
    "        temp_corr_df=df_col_corr.iloc[counter:,[counter,col_num-1]][((df_col_corr[col] >= 0.40) & (df_col_corr[col] < 1.0)) |\n",
    "        ((df_col_corr[col] > -1.0) & (df_col_corr[col] <= -0.4))]\n",
    "        \n",
    "        #Renaming the column as Corr. Correlation have columnnames in index and column headers\n",
    "        temp_corr_df.rename(columns={col:\"Corr\"}, inplace=True)\n",
    "        temp_corr_df[\"1st Col\"]=col\n",
    "        df_relevant_corr=df_relevant_corr.append(temp_corr_df)\n",
    "        counter+=1\n",
    "# Displaying top 20 results sorted on +ve correlation\n",
    "df_relevant_corr.sort_values(['Corr'], ascending = False).head(20)"
   ]
  },
  {
   "cell_type": "code",
   "execution_count": 12,
   "metadata": {},
   "outputs": [
    {
     "data": {
      "text/html": [
       "<div>\n",
       "<style scoped>\n",
       "    .dataframe tbody tr th:only-of-type {\n",
       "        vertical-align: middle;\n",
       "    }\n",
       "\n",
       "    .dataframe tbody tr th {\n",
       "        vertical-align: top;\n",
       "    }\n",
       "\n",
       "    .dataframe thead th {\n",
       "        text-align: right;\n",
       "    }\n",
       "</style>\n",
       "<table border=\"1\" class=\"dataframe\">\n",
       "  <thead>\n",
       "    <tr style=\"text-align: right;\">\n",
       "      <th></th>\n",
       "      <th>1st Col</th>\n",
       "      <th>2nd Col</th>\n",
       "      <th>Corr</th>\n",
       "    </tr>\n",
       "  </thead>\n",
       "  <tbody>\n",
       "    <tr>\n",
       "      <th>20</th>\n",
       "      <td>living_measure</td>\n",
       "      <td>num_bedrooms_treated</td>\n",
       "      <td>0.602733</td>\n",
       "    </tr>\n",
       "    <tr>\n",
       "      <th>9</th>\n",
       "      <td>price</td>\n",
       "      <td>ceil_measure</td>\n",
       "      <td>0.599564</td>\n",
       "    </tr>\n",
       "    <tr>\n",
       "      <th>11</th>\n",
       "      <td>price</td>\n",
       "      <td>living_measure15</td>\n",
       "      <td>0.591657</td>\n",
       "    </tr>\n",
       "    <tr>\n",
       "      <th>13</th>\n",
       "      <td>price</td>\n",
       "      <td>furnished</td>\n",
       "      <td>0.576131</td>\n",
       "    </tr>\n",
       "    <tr>\n",
       "      <th>11</th>\n",
       "      <td>room_bath</td>\n",
       "      <td>living_measure15</td>\n",
       "      <td>0.567061</td>\n",
       "    </tr>\n",
       "    <tr>\n",
       "      <th>20</th>\n",
       "      <td>room_bath</td>\n",
       "      <td>num_bedrooms_treated</td>\n",
       "      <td>0.528597</td>\n",
       "    </tr>\n",
       "    <tr>\n",
       "      <th>1</th>\n",
       "      <td>price</td>\n",
       "      <td>room_bath</td>\n",
       "      <td>0.521129</td>\n",
       "    </tr>\n",
       "    <tr>\n",
       "      <th>20</th>\n",
       "      <td>ceil_measure</td>\n",
       "      <td>num_bedrooms_treated</td>\n",
       "      <td>0.497409</td>\n",
       "    </tr>\n",
       "    <tr>\n",
       "      <th>9</th>\n",
       "      <td>ceil</td>\n",
       "      <td>ceil_measure</td>\n",
       "      <td>0.492096</td>\n",
       "    </tr>\n",
       "    <tr>\n",
       "      <th>13</th>\n",
       "      <td>room_bath</td>\n",
       "      <td>furnished</td>\n",
       "      <td>0.481271</td>\n",
       "    </tr>\n",
       "    <tr>\n",
       "      <th>4</th>\n",
       "      <td>room_bath</td>\n",
       "      <td>ceil</td>\n",
       "      <td>0.445840</td>\n",
       "    </tr>\n",
       "    <tr>\n",
       "      <th>10</th>\n",
       "      <td>living_measure</td>\n",
       "      <td>basement</td>\n",
       "      <td>0.429964</td>\n",
       "    </tr>\n",
       "    <tr>\n",
       "      <th>20</th>\n",
       "      <td>living_measure15</td>\n",
       "      <td>num_bedrooms_treated</td>\n",
       "      <td>0.410939</td>\n",
       "    </tr>\n",
       "    <tr>\n",
       "      <th>6</th>\n",
       "      <td>coast</td>\n",
       "      <td>sight</td>\n",
       "      <td>0.406494</td>\n",
       "    </tr>\n",
       "    <tr>\n",
       "      <th>8</th>\n",
       "      <td>ceil</td>\n",
       "      <td>quality</td>\n",
       "      <td>0.403321</td>\n",
       "    </tr>\n",
       "    <tr>\n",
       "      <th>17</th>\n",
       "      <td>ceil_measure</td>\n",
       "      <td>House_age_at_sales</td>\n",
       "      <td>-0.430414</td>\n",
       "    </tr>\n",
       "    <tr>\n",
       "      <th>17</th>\n",
       "      <td>quality</td>\n",
       "      <td>House_age_at_sales</td>\n",
       "      <td>-0.445765</td>\n",
       "    </tr>\n",
       "    <tr>\n",
       "      <th>17</th>\n",
       "      <td>room_bath</td>\n",
       "      <td>House_age_at_sales</td>\n",
       "      <td>-0.510722</td>\n",
       "    </tr>\n",
       "    <tr>\n",
       "      <th>19</th>\n",
       "      <td>price</td>\n",
       "      <td>neighbourhood_indicator</td>\n",
       "      <td>-0.605393</td>\n",
       "    </tr>\n",
       "    <tr>\n",
       "      <th>18</th>\n",
       "      <td>renovated_flag</td>\n",
       "      <td>num_years_post_renovation</td>\n",
       "      <td>-0.981214</td>\n",
       "    </tr>\n",
       "  </tbody>\n",
       "</table>\n",
       "</div>"
      ],
      "text/plain": [
       "             1st Col                    2nd Col      Corr\n",
       "20    living_measure       num_bedrooms_treated  0.602733\n",
       "9              price               ceil_measure  0.599564\n",
       "11             price           living_measure15  0.591657\n",
       "13             price                  furnished  0.576131\n",
       "11         room_bath           living_measure15  0.567061\n",
       "20         room_bath       num_bedrooms_treated  0.528597\n",
       "1              price                  room_bath  0.521129\n",
       "20      ceil_measure       num_bedrooms_treated  0.497409\n",
       "9               ceil               ceil_measure  0.492096\n",
       "13         room_bath                  furnished  0.481271\n",
       "4          room_bath                       ceil  0.445840\n",
       "10    living_measure                   basement  0.429964\n",
       "20  living_measure15       num_bedrooms_treated  0.410939\n",
       "6              coast                      sight  0.406494\n",
       "8               ceil                    quality  0.403321\n",
       "17      ceil_measure         House_age_at_sales -0.430414\n",
       "17           quality         House_age_at_sales -0.445765\n",
       "17         room_bath         House_age_at_sales -0.510722\n",
       "19             price    neighbourhood_indicator -0.605393\n",
       "18    renovated_flag  num_years_post_renovation -0.981214"
      ]
     },
     "execution_count": 12,
     "metadata": {},
     "output_type": "execute_result"
    }
   ],
   "source": [
    "df_relevant_corr.sort_values(['Corr'], ascending = False).tail(20)"
   ]
  },
  {
   "cell_type": "markdown",
   "metadata": {},
   "source": [
    "# Basis their correlation with price, identify the ones with lower correlation with price & drop them"
   ]
  },
  {
   "cell_type": "code",
   "execution_count": 13,
   "metadata": {},
   "outputs": [
    {
     "data": {
      "text/plain": [
       "price                        1.000000\n",
       "lot_measure                  0.106445\n",
       "total_area                   0.137458\n",
       "living_measure               0.694686\n",
       "ceil_measure                 0.599564\n",
       "renovated_flag               0.115400\n",
       "num_years_post_renovation   -0.121724\n",
       "Name: price, dtype: float64"
      ]
     },
     "execution_count": 13,
     "metadata": {},
     "output_type": "execute_result"
    }
   ],
   "source": [
    "\n",
    "# train_fin[['lot_measure','total_area','price','living_measure','ceil_measure','living_measure15','quality','furnished','lot_measure','lot_measure15','renovated_flag','num_years_post_renovation']].corr()['price']\n",
    "train_fin[['price','lot_measure','total_area','living_measure','ceil_measure','renovated_flag','num_years_post_renovation']].corr()['price']\n",
    "# drop\n",
    "# lot_measure\n",
    "# ceil_measure\n",
    "# renovated_flag"
   ]
  },
  {
   "cell_type": "markdown",
   "metadata": {},
   "source": [
    "# Drop the variables with high multi-correlation"
   ]
  },
  {
   "cell_type": "code",
   "execution_count": 14,
   "metadata": {},
   "outputs": [],
   "source": [
    "\n",
    "train_post_corr=train_fin.drop(['lot_measure','ceil_measure','renovated_flag'],axis=1)\n",
    "test_post_corr=test_fin.drop(['lot_measure','ceil_measure','renovated_flag'],axis=1)"
   ]
  },
  {
   "cell_type": "markdown",
   "metadata": {},
   "source": [
    "# Create x_train,x_test, y_train & y_test & scale the independent variables"
   ]
  },
  {
   "cell_type": "code",
   "execution_count": 15,
   "metadata": {},
   "outputs": [],
   "source": [
    "\n",
    "x_train=train_post_corr.drop(['price'], axis=1) \n",
    "y_train=train_post_corr[['price']]\n",
    "\n",
    "\n",
    "x_test=test_post_corr.drop(['price'], axis=1) \n",
    "y_test=test_post_corr[['price']]\n",
    "\n",
    "stdscaler=StandardScaler()\n",
    "x_train_scaled=pd.DataFrame(stdscaler.fit_transform(x_train),columns=x_train.columns)\n",
    "x_test_scaled=pd.DataFrame(stdscaler.transform(x_test),columns=x_test.columns)"
   ]
  },
  {
   "cell_type": "markdown",
   "metadata": {},
   "source": [
    "# Apply Polynomial with degree=2 on the dataset & run regression"
   ]
  },
  {
   "cell_type": "code",
   "execution_count": 16,
   "metadata": {},
   "outputs": [
    {
     "name": "stdout",
     "output_type": "stream",
     "text": [
      "0.8512083285777952\n",
      "0.8354155238341483\n"
     ]
    },
    {
     "data": {
      "text/html": [
       "<div>\n",
       "<style scoped>\n",
       "    .dataframe tbody tr th:only-of-type {\n",
       "        vertical-align: middle;\n",
       "    }\n",
       "\n",
       "    .dataframe tbody tr th {\n",
       "        vertical-align: top;\n",
       "    }\n",
       "\n",
       "    .dataframe thead th {\n",
       "        text-align: right;\n",
       "    }\n",
       "</style>\n",
       "<table border=\"1\" class=\"dataframe\">\n",
       "  <thead>\n",
       "    <tr style=\"text-align: right;\">\n",
       "      <th></th>\n",
       "      <th>Model</th>\n",
       "      <th>R-square- Train</th>\n",
       "      <th>R-square- Test</th>\n",
       "      <th>MSE</th>\n",
       "      <th>RMSE</th>\n",
       "    </tr>\n",
       "  </thead>\n",
       "  <tbody>\n",
       "    <tr>\n",
       "      <th>0</th>\n",
       "      <td>Lin Reg+Poly=2 scaled vars+Price dep</td>\n",
       "      <td>0.85</td>\n",
       "      <td>0.84</td>\n",
       "      <td>2.299943e+10</td>\n",
       "      <td>151655.63</td>\n",
       "    </tr>\n",
       "  </tbody>\n",
       "</table>\n",
       "</div>"
      ],
      "text/plain": [
       "                                   Model  R-square- Train  R-square- Test  \\\n",
       "0  Lin Reg+Poly=2 scaled vars+Price dep              0.85            0.84   \n",
       "\n",
       "            MSE       RMSE  \n",
       "0  2.299943e+10  151655.63  "
      ]
     },
     "execution_count": 16,
     "metadata": {},
     "output_type": "execute_result"
    }
   ],
   "source": [
    "\n",
    "\n",
    "poly = PolynomialFeatures(degree=2, interaction_only=True)\n",
    "x_train_poly = poly.fit_transform(x_train_scaled)\n",
    "x_test_poly = poly.transform(x_test_scaled)\n",
    "\n",
    "poly_clf = LinearRegression()\n",
    "poly_clf.fit(x_train_poly, y_train)\n",
    "print(poly_clf.score(x_train_poly, y_train))\n",
    "print(poly_clf.score(x_test_poly, y_test))\n",
    "y_test_pred=poly_clf.predict(x_test_poly)\n",
    "    \n",
    "accuracy6=pd.DataFrame({'Model':['Lin Reg+Poly=2 scaled vars+Price dep '],\n",
    "     'R-square- Train':[round(poly_clf.score(x_train_poly, y_train),2)],\n",
    "     'R-square- Test':[round(poly_clf.score(x_test_poly, y_test),2)],\n",
    "     'MSE':[round(mean_squared_error(y_test, y_test_pred),2)],\n",
    "     'RMSE':[round(sqrt(mean_squared_error(y_test, y_test_pred)),2)]})\n",
    "accuracy6"
   ]
  },
  {
   "cell_type": "markdown",
   "metadata": {},
   "source": [
    "# Perform Cross-validation"
   ]
  },
  {
   "cell_type": "code",
   "execution_count": 19,
   "metadata": {},
   "outputs": [
    {
     "name": "stdout",
     "output_type": "stream",
     "text": [
      "[0.85086123 0.79879901 0.79826509 0.84361352 0.78695054 0.89797053\n",
      " 0.76360983 0.7946646  0.85396094 0.84453243 0.84520957 0.87607761\n",
      " 0.78021736 0.8647621  0.87771316 0.82261851 0.76380103 0.79292273\n",
      " 0.81190328 0.84336245]\n",
      "-------------------------------------------\n",
      "R-square Mean & Standard Deviation: (0.826, 0.039)\n",
      "-------------------------------------------\n",
      "In 68% cases, R-square will be between 0.787  &  0.865\n"
     ]
    }
   ],
   "source": [
    "num_folds = 20\n",
    "kfold = KFold(n_splits=num_folds, random_state=1, shuffle=True)\n",
    "results = cross_val_score(poly_clf, x_test_poly, y_test, cv=kfold)\n",
    "print(results)\n",
    "print('-------------------------------------------')\n",
    "print(\"R-square Mean & Standard Deviation:\" , (results.mean().round(3), results.std().round(3)))\n",
    "print('-------------------------------------------')\n",
    "print(\"In 68% cases, R-square will be between\" , (results.mean().round(3)-results.std().round(3)).round(3),\" & \",(results.mean().round(3)+results.std().round(3)).round(3))"
   ]
  },
  {
   "cell_type": "markdown",
   "metadata": {},
   "source": [
    "# Testing Few assumptions on the final model"
   ]
  },
  {
   "cell_type": "code",
   "execution_count": 20,
   "metadata": {},
   "outputs": [
    {
     "name": "stdout",
     "output_type": "stream",
     "text": [
      "Mean of Residuals on Train 0.0\n"
     ]
    }
   ],
   "source": [
    "# ASSUMPTION 1: MEAN OF RESIDUALS SHOULD BE CLOSE TO ZERO\n",
    "y_train_pred=poly_clf.predict(x_train_poly)\n",
    "residuals = y_train.values-y_train_pred\n",
    "mean_residuals = np.mean(residuals)\n",
    "print(\"Mean of Residuals on Train\",round(mean_residuals,5))\n",
    "\n",
    "# FINDING: Mean of Residual on Train is zero"
   ]
  },
  {
   "cell_type": "code",
   "execution_count": 21,
   "metadata": {},
   "outputs": [
    {
     "name": "stdout",
     "output_type": "stream",
     "text": [
      "Mean of Residuals on Test 913.38359\n"
     ]
    }
   ],
   "source": [
    "y_test_pred=poly_clf.predict(x_test_poly)\n",
    "residuals_test = y_test.values-y_test_pred\n",
    "mean_residuals_test = np.mean(residuals_test)\n",
    "print(\"Mean of Residuals on Test\",round(mean_residuals_test,5))\n",
    "\n",
    "# FINDING: Mean of Residual on test is close to zero. Since prices are 6+ digits, this number is not very high"
   ]
  },
  {
   "cell_type": "code",
   "execution_count": 22,
   "metadata": {},
   "outputs": [
    {
     "data": {
      "text/plain": [
       "Text(0, 0.5, 'y_pred')"
      ]
     },
     "execution_count": 22,
     "metadata": {},
     "output_type": "execute_result"
    },
    {
     "data": {
      "image/png": "[encoded data removed]",
      "text/plain": [
       "<Figure size 720x720 with 1 Axes>"
      ]
     },
     "metadata": {
      "needs_background": "light"
     },
     "output_type": "display_data"
    }
   ],
   "source": [
    "# CHECK 2: Actuals & Predicted should be in a straight diagonal line\n",
    "\n",
    "fig = plt.figure(figsize=[10,10])\n",
    "plt.scatter(y_test, y_test_pred)\n",
    "fig.suptitle('y_test vs y_pred', fontsize = 20)              # Plot heading \n",
    "plt.xlabel('y_test', fontsize = 18)                          # X-label\n",
    "plt.ylabel('y_pred', fontsize = 16)  \n",
    "\n",
    "# Finding: The Predicted Y get dispersed for higher prices. "
   ]
  },
  {
   "cell_type": "code",
   "execution_count": 23,
   "metadata": {},
   "outputs": [
    {
     "data": {
      "text/plain": [
       "Text(0.5, 0, 'Errors')"
      ]
     },
     "execution_count": 23,
     "metadata": {},
     "output_type": "execute_result"
    },
    {
     "data": {
      "image/png": "[encoded data removed]",
      "text/plain": [
       "<Figure size 432x288 with 1 Axes>"
      ]
     },
     "metadata": {
      "needs_background": "light"
     },
     "output_type": "display_data"
    }
   ],
   "source": [
    "# REsiduals are normally distributed for Train dataset\n",
    "\n",
    "fig = plt.figure()\n",
    "sns.distplot((residuals), bins = 20)\n",
    "fig.suptitle('Error Terms', fontsize = 20)                  # Plot heading \n",
    "plt.xlabel('Errors', fontsize = 18)                         # X-label"
   ]
  },
  {
   "cell_type": "code",
   "execution_count": 24,
   "metadata": {},
   "outputs": [
    {
     "data": {
      "text/plain": [
       "Text(0.5, 0, 'Errors')"
      ]
     },
     "execution_count": 24,
     "metadata": {},
     "output_type": "execute_result"
    },
    {
     "data": {
      "image/png": "[encoded data removed]",
      "text/plain": [
       "<Figure size 432x288 with 1 Axes>"
      ]
     },
     "metadata": {
      "needs_background": "light"
     },
     "output_type": "display_data"
    }
   ],
   "source": [
    "# REsiduals are normally distributed for Test dataset\n",
    "\n",
    "fig = plt.figure()\n",
    "sns.distplot((residuals_test), bins = 20)\n",
    "fig.suptitle('Error Terms', fontsize = 20)                  # Plot heading \n",
    "plt.xlabel('Errors', fontsize = 18)   "
   ]
  },
  {
   "cell_type": "code",
   "execution_count": 25,
   "metadata": {},
   "outputs": [
    {
     "data": {
      "text/plain": [
       "[('F statistic', 0.9315778262869743), ('p-value', 0.9988950982137249)]"
      ]
     },
     "execution_count": 25,
     "metadata": {},
     "output_type": "execute_result"
    }
   ],
   "source": [
    "# HOMOSCEDASTICITY CHECK FOR TRAIN\n",
    "import statsmodels.stats.api as sms\n",
    "from statsmodels.compat import lzip\n",
    "name = ['F statistic', 'p-value']\n",
    "test = sms.het_goldfeldquandt(residuals, x_train)\n",
    "lzip(name, test)\n",
    "# Since p value is more than 0.05 in Goldfeld Quandt Test,\n",
    "# we can't reject it's null hypothesis that error terms are homoscedastic. \n"
   ]
  },
  {
   "cell_type": "code",
   "execution_count": 26,
   "metadata": {},
   "outputs": [
    {
     "data": {
      "text/plain": [
       "[('F statistic', 1.0207943464842235), ('p-value', 0.2805969021974677)]"
      ]
     },
     "execution_count": 26,
     "metadata": {},
     "output_type": "execute_result"
    }
   ],
   "source": [
    "# HOMOSCEDASTICITY CHECK FOR TEST\n",
    "\n",
    "import statsmodels.stats.api as sms\n",
    "from statsmodels.compat import lzip\n",
    "name = ['F statistic', 'p-value']\n",
    "test = sms.het_goldfeldquandt(residuals_test, x_test)\n",
    "lzip(name, test)\n",
    "# Since p value is more than 0.05 in Goldfeld Quandt Test,\n",
    "# we can't reject it's null hypothesis that error terms in Test are homoscedastic. "
   ]
  },
  {
   "cell_type": "code",
   "execution_count": 27,
   "metadata": {},
   "outputs": [
    {
     "name": "stdout",
     "output_type": "stream",
     "text": [
      "(14955, 1)\n",
      "(14955, 1)\n"
     ]
    },
    {
     "data": {
      "text/plain": [
       "Text(0.5, 1.0, 'Residuals vs fitted values plot for autocorrelation check')"
      ]
     },
     "execution_count": 27,
     "metadata": {},
     "output_type": "execute_result"
    },
    {
     "data": {
      "image/png": "[encoded data removed]",
      "text/plain": [
       "<Figure size 720x360 with 1 Axes>"
      ]
     },
     "metadata": {
      "needs_background": "light"
     },
     "output_type": "display_data"
    }
   ],
   "source": [
    "# Detecting heteroscedasticity in TRAIN!\n",
    "# Graphical Method: plot the error terms against the predicted values( Yi^).     \n",
    "    \n",
    "residuals_df=pd.DataFrame(residuals,columns=['Residuals'])\n",
    "print(residuals_df.shape)\n",
    "residuals_df.head()\n",
    "\n",
    "y_train_pred_df=pd.DataFrame(y_train_pred,columns=['Predicted Train Y'])\n",
    "print(y_train_pred_df.shape)\n",
    "y_train_pred_df.head()\n",
    "\n",
    "\n",
    "plt.figure(figsize=(10,5))\n",
    "sns.lineplot(x=y_train_pred_df['Predicted Train Y'],y=residuals_df['Residuals'],marker='o',color='blue')\n",
    "plt.xlabel('y_pred/predicted values')\n",
    "plt.ylabel('Residuals')\n",
    "# plt.ylim(-100000,100000)\n",
    "# plt.xlim(0,26)\n",
    "sns.lineplot([0,26],[0,0],color='red')\n",
    "plt.title('Residuals vs fitted values plot for autocorrelation check')\n",
    "\n",
    "# While the results state that heteroscedasticity is not there, there seems to be some pattern in residuals \n",
    "# as the dispersion is higher for higher prices "
   ]
  },
  {
   "cell_type": "code",
   "execution_count": 28,
   "metadata": {},
   "outputs": [
    {
     "name": "stdout",
     "output_type": "stream",
     "text": [
      "(6412, 1)\n",
      "(6412, 1)\n"
     ]
    },
    {
     "data": {
      "text/plain": [
       "Text(0.5, 1.0, 'Residuals vs fitted values plot for autocorrelation check')"
      ]
     },
     "execution_count": 28,
     "metadata": {},
     "output_type": "execute_result"
    },
    {
     "data": {
      "image/png": "[encoded data removed]",
      "text/plain": [
       "<Figure size 720x360 with 1 Axes>"
      ]
     },
     "metadata": {
      "needs_background": "light"
     },
     "output_type": "display_data"
    }
   ],
   "source": [
    "# Detecting heteroscedasticity in TEST!\n",
    "# Graphical Method: plot the error terms against the predicted values( Yi^). \n",
    "    \n",
    "    \n",
    "residuals_df=pd.DataFrame(residuals_test,columns=['Residuals'])\n",
    "print(residuals_df.shape)\n",
    "residuals_df.head()\n",
    "\n",
    "y_test_pred_df=pd.DataFrame(y_test_pred,columns=['Predicted Test Y'])\n",
    "print(y_test_pred_df.shape)\n",
    "y_test_pred_df.head()\n",
    "\n",
    "\n",
    "plt.figure(figsize=(10,5))\n",
    "sns.lineplot(x=y_test_pred_df['Predicted Test Y'],y=residuals_df['Residuals'],marker='o',color='blue')\n",
    "plt.xlabel('y_pred/predicted values')\n",
    "plt.ylabel('Residuals')\n",
    "# plt.ylim(-100000,100000)\n",
    "# plt.xlim(0,26)\n",
    "sns.lineplot([0,26],[0,0],color='red')\n",
    "plt.title('Residuals vs fitted values plot for autocorrelation check')\n",
    "\n",
    "# While the results state that heteroscedasticity is not there, there seems to be some pattern in residuals \n",
    "# as the dispersion is higher for higher prices."
   ]
  },
  {
   "cell_type": "markdown",
   "metadata": {},
   "source": [
    "# FINAL CONCLUSION"
   ]
  },
  {
   "cell_type": "markdown",
   "metadata": {},
   "source": [
    " Our final model is polynomial regression with degree2 on scaled variables. \n",
    " \n",
    " - The model R square on Train is high at 0.85 & R square on Test is also similar at 0.84. \n",
    " - The cross-validation exercise also lends a degree of confidence as the mean r square is 0.82 with a standard deviation of 0.039. Given this, R-square will be between 0.787  &  0.865 in 68% cases. \n",
    " \n",
    " Upon testing the assumptions, most of the assumptions (other than autocorrelation check) hold true. \n",
    " \n",
    " If we had more time, we would have liked to explore other models (including deep learning models) to solve for this. For actual implementation, we would also like to pickle the model & create a user friendly interface."
   ]
  }
 ],
 "metadata": {
  "kernelspec": {
   "display_name": "Python 3 (ipykernel)",
   "language": "python",
   "name": "python3"
  },
  "language_info": {
   "codemirror_mode": {
    "name": "ipython",
    "version": 3
   },
   "file_extension": ".py",
   "mimetype": "text/x-python",
   "name": "python",
   "nbconvert_exporter": "python",
   "pygments_lexer": "ipython3",
   "version": "3.9.12"
  }
 },
 "nbformat": 4,
 "nbformat_minor": 4
}
